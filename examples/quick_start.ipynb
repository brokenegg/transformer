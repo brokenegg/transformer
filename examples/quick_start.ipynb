{
 "cells": [
  {
   "cell_type": "code",
   "execution_count": null,
   "metadata": {
    "colab": {
     "base_uri": "https://localhost:8080/",
     "height": 67
    },
    "colab_type": "code",
    "id": "AWyE1889zW33",
    "outputId": "4187abc4-699a-4c73-9785-4cdcaa740167"
   },
   "outputs": [
    {
     "name": "stdout",
     "output_type": "stream",
     "text": [
      "Copying gs://brokenegg/pretrained/model_base_20200623.tar.bz2...\n",
      "| [1 files][819.1 MiB/819.1 MiB]   53.6 MiB/s                                   \n",
      "Operation completed over 1 objects/819.1 MiB.                                    \n"
     ]
    },
    {
     "data": {
      "text/plain": []
     },
     "execution_count": 2,
     "metadata": {
      "tags": []
     },
     "output_type": "execute_result"
    }
   ],
   "source": [
    "%%shell\n",
    "gsutil cp gs://brokenegg/pretrained/model_base_20200623.tar.bz2 .\n",
    "tar xfj model_base_20200623.tar.bz2"
   ]
  },
  {
   "cell_type": "code",
   "execution_count": 1,
   "metadata": {
    "colab": {},
    "colab_type": "code",
    "id": "zRU0ORpg_kLk"
   },
   "outputs": [],
   "source": [
    "from brokenegg_transformer import transformer\n",
    "from brokenegg_transformer import model_params\n",
    "from brokenegg_transformer.utils import tokenizer\n",
    "import tensorflow.compat.v1 as tf\n",
    "import numpy as np"
   ]
  },
  {
   "cell_type": "code",
   "execution_count": 2,
   "metadata": {
    "colab": {
     "base_uri": "https://localhost:8080/",
     "height": 50
    },
    "colab_type": "code",
    "id": "f7dEYmPvZOGr",
    "outputId": "00489f81-35cc-4a46-8a07-44a57dab4ca3"
   },
   "outputs": [
    {
     "name": "stdout",
     "output_type": "stream",
     "text": [
      "Restoring from ./model_base_20200623/ctl_step_760000.ckpt-38\n"
     ]
    },
    {
     "data": {
      "text/plain": [
       "<tensorflow.python.training.tracking.util.CheckpointLoadStatus at 0x7f1af8262f98>"
      ]
     },
     "execution_count": 2,
     "metadata": {},
     "output_type": "execute_result"
    }
   ],
   "source": [
    "# Creating translation model\n",
    "params = model_params.BASE_PARAMS.copy()\n",
    "params[\"dtype\"] = tf.float32\n",
    "with tf.name_scope(\"model\"):\n",
    "    model = transformer.create_model(params, is_train=False, has_initial_ids=True)\n",
    "init_weight_path = tf.train.latest_checkpoint(\"./model_base_20200623\")\n",
    "print('Restoring from %s' % init_weight_path)\n",
    "checkpoint = tf.train.Checkpoint(model=model)\n",
    "checkpoint.restore(init_weight_path)"
   ]
  },
  {
   "cell_type": "code",
   "execution_count": 3,
   "metadata": {
    "colab": {
     "base_uri": "https://localhost:8080/",
     "height": 34
    },
    "colab_type": "code",
    "id": "_tt42j1qHwQq",
    "outputId": "f7fce93f-a34d-4446-caaa-fee148756b87"
   },
   "outputs": [
    {
     "name": "stdout",
     "output_type": "stream",
     "text": [
      "INFO:tensorflow:Initializing Subtokenizer from file ./model_base_20200623/brokenegg.en-es-ja.spm64k.model.\n"
     ]
    }
   ],
   "source": [
    "# Creating tokenizer\n",
    "path = './model_base_20200623/brokenegg.en-es-ja.spm64k.model'\n",
    "subtokenizer = tokenizer.Subtokenizer(path)"
   ]
  },
  {
   "cell_type": "code",
   "execution_count": 5,
   "metadata": {
    "colab": {
     "base_uri": "https://localhost:8080/",
     "height": 84
    },
    "colab_type": "code",
    "id": "zcpsyCGRFG18",
    "outputId": "e98b8003-901a-48c7-c13e-9231830915b9"
   },
   "outputs": [
    {
     "name": "stdout",
     "output_type": "stream",
     "text": [
      "[[  6  21 450  21 450  21 450  21 450  21 450  21 450  21 450  21 450  21\n",
      "  450  21 450  21 450  21 450  21 450   2   0   0   0   0   0   0   0   0\n",
      "    0   0   0   0   0   0   0   0   0   0   0   0   0   0   0   0   0]]\n",
      "はいはいはいはいはいはいはいはいはいはいはいはいはい\n"
     ]
    }
   ],
   "source": [
    "#text = 'US is located in the west.'\n",
    "text = 'Hello! I am going to school.'\n",
    "#text = 'Note: this transformer folder is subject to be integrated into official/nlp folder.'\n",
    "text = 'They include President Trump\\'s former lawyer Michael Cohen who has served a prison sentence for lying to Congress and campaign finance fraud.'\n",
    "#text = '元気ですか？'\n",
    "#text = 'Are you sure?'\n",
    "#text = '¿Estás seguro?'\n",
    "#text = 'どこ行こうか？'\n",
    "text = '愛している'\n",
    "\n",
    "# task_id is one of 1, 64000, 64001, 64002\n",
    "# 1: Conversation\n",
    "# 64000: Translate from Spanish/Japanese to English\n",
    "# 64001: Translate from English/Japanese to English\n",
    "# 64002: Translate from English/Spanishe to Japanese\n",
    "\n",
    "task_id = 1\n",
    "encoded = subtokenizer.encode(text, add_eos=True)\n",
    "output, score = model.predict([np.array([encoded], dtype=np.int64), np.array([task_id], dtype=np.int32)])\n",
    "print(output)\n",
    "encoded_output = []\n",
    "for _id in output[0]:\n",
    "    _id = int(_id)\n",
    "    if _id == tokenizer.EOS_ID:\n",
    "        break\n",
    "    encoded_output.append(_id)\n",
    "decoded_output = subtokenizer.decode(encoded_output)\n",
    "print(decoded_output)"
   ]
  }
 ],
 "metadata": {
  "colab": {
   "collapsed_sections": [],
   "name": "BrokenEgg Transformer quick start.ipynb",
   "provenance": []
  },
  "kernelspec": {
   "display_name": "Python 3",
   "language": "python",
   "name": "python3"
  },
  "language_info": {
   "codemirror_mode": {
    "name": "ipython",
    "version": 3
   },
   "file_extension": ".py",
   "mimetype": "text/x-python",
   "name": "python",
   "nbconvert_exporter": "python",
   "pygments_lexer": "ipython3",
   "version": "3.6.9"
  }
 },
 "nbformat": 4,
 "nbformat_minor": 1
}
